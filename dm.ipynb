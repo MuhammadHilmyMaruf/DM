{
 "cells": [
  {
   "cell_type": "code",
   "execution_count": null,
   "id": "e5978426-41d8-4124-8e4e-bedfb18bd257",
   "metadata": {},
   "outputs": [],
   "source": [
    "import numpy as np\n",
    "import pandas as pd\n",
    "import matplotlib.pyplot as plt\n",
    "import seaborn as sns\n",
    "import os\n",
    "import folium\n",
    "from folium.plugins import MarkerCluster\n"
   ]
  },
  {
   "cell_type": "code",
   "execution_count": null,
   "id": "2b4e7f2a-6217-4d8f-bda4-bd8154e8975f",
   "metadata": {},
   "outputs": [],
   "source": [
    "for filename in os.listdir(\"/kaggle/input/brazilian-ecommerce/\"):\n",
    "    print(filename)\n",
    "print(\"Jumlah file: \", len(os.listdir('/kaggle/input/brazilian-ecommerce/')))\n"
   ]
  },
  {
   "cell_type": "code",
   "execution_count": null,
   "id": "b1635001-21eb-4c37-bf60-9036496a88e1",
   "metadata": {},
   "outputs": [],
   "source": [
    "orders_df = pd.read_csv(\"/kaggle/input/brazilian-ecommerce/olist_orders_dataset.csv\", delimiter=\",\")\n",
    "costumers_df = pd.read_csv(\"/kaggle/input/brazilian-ecommerce/olist_customers_dataset.csv\", delimiter=\",\")\n",
    "order_reviews_df = pd.read_csv(\"/kaggle/input/brazilian-ecommerce/olist_order_reviews_dataset.csv\", delimiter=\",\")\n",
    "order_items_df = pd.read_csv(\"/kaggle/input/brazilian-ecommerce/olist_order_items_dataset.csv\", delimiter=\",\")\n",
    "order_payments_df = pd.read_csv(\"/kaggle/input/brazilian-ecommerce/olist_order_payments_dataset.csv\", delimiter=\",\")\n",
    "products_df = pd.read_csv(\"/kaggle/input/brazilian-ecommerce/olist_products_dataset.csv\", delimiter=\",\")\n",
    "products_category_eng_df = pd.read_csv(\"/kaggle/input/brazilian-ecommerce/product_category_name_translation.csv\", delimiter=\",\")\n",
    "sellers_df = pd.read_csv(\"/kaggle/input/brazilian-ecommerce/olist_sellers_dataset.csv\", delimiter=\",\")\n",
    "geolocation_df = pd.read_csv(\"/kaggle/input/brazilian-ecommerce/olist_geolocation_dataset.csv\", delimiter=\",\")"
   ]
  },
  {
   "cell_type": "code",
   "execution_count": null,
   "id": "7fe9877f-5e8f-431d-a8a4-930e32c5ccab",
   "metadata": {},
   "outputs": [],
   "source": [
    "Data orders_df\n",
    "orders_df.head()"
   ]
  },
  {
   "cell_type": "code",
   "execution_count": null,
   "id": "53a904bf-2b40-4ee7-9353-54db2de1e59c",
   "metadata": {},
   "outputs": [],
   "source": [
    "Data customer\n",
    "costumers_df.head()"
   ]
  },
  {
   "cell_type": "code",
   "execution_count": null,
   "id": "09514b34-b9da-4565-81c2-870ded5b8b9f",
   "metadata": {},
   "outputs": [],
   "source": [
    "Data order_reviews_df\n",
    "order_reviews_df.head()"
   ]
  },
  {
   "cell_type": "code",
   "execution_count": null,
   "id": "6514a289-a49a-4494-8654-95b5d1552356",
   "metadata": {},
   "outputs": [],
   "source": [
    "Data order_items_df\n",
    "order_items_df.head()"
   ]
  },
  {
   "cell_type": "code",
   "execution_count": null,
   "id": "df572ec5-6eb1-45e1-a562-a21e9762c7d1",
   "metadata": {},
   "outputs": [],
   "source": [
    "Data products_df\n",
    "products_df.head()"
   ]
  },
  {
   "cell_type": "code",
   "execution_count": null,
   "id": "4f1675ce-6858-4ec4-81ef-de69947d65f9",
   "metadata": {},
   "outputs": [],
   "source": [
    "Data products_category_eng_df\n",
    "products_category_eng_df.head()"
   ]
  },
  {
   "cell_type": "code",
   "execution_count": null,
   "id": "551d7468-8a44-401e-af36-29a7e3fd40a6",
   "metadata": {},
   "outputs": [],
   "source": [
    "Data order_payments_df\n",
    "order_payments_df.head()"
   ]
  },
  {
   "cell_type": "code",
   "execution_count": null,
   "id": "c810720f-eed1-489a-bee8-d059d1cb1137",
   "metadata": {},
   "outputs": [],
   "source": [
    "Data sellers_df\n",
    "sellers_df.head()"
   ]
  },
  {
   "cell_type": "code",
   "execution_count": null,
   "id": "bb302739-6e41-4a3c-8a13-c4dca8dc652c",
   "metadata": {},
   "outputs": [],
   "source": [
    "Data geolocation_df\n",
    "geolocation_df.head()"
   ]
  },
  {
   "cell_type": "code",
   "execution_count": null,
   "id": "b7616a60-698b-478e-ae83-98cf0f4c6bfc",
   "metadata": {},
   "outputs": [],
   "source": [
    "termwidth, fillchar = 100, '='\n",
    "print(' Rangkuman E-Commerce Public Dataset yang Digunakan '.center(termwidth, fillchar), '\\n')\n",
    "\n",
    "datasets = {\n",
    "    'orders_df': orders_df,\n",
    "    'costumers_df': costumers_df,\n",
    "    'order_reviews_df': order_reviews_df,\n",
    "    'order_items_df': order_items_df,\n",
    "    'order_payments_df': order_payments_df,\n",
    "    'products_df': products_df,\n",
    "    'products_category_eng_df': products_category_eng_df,\n",
    "    'sellers_df': sellers_df,\n",
    "    'geolocation_df': geolocation_df\n",
    "}\n",
    "\n",
    "for name, df in datasets.items():\n",
    "    print(f'Columns {name}: ', df.columns, '\\n '\n",
    "          f'Jumlah variabel: {len(df.columns)}\\n '\n",
    "          f'Jumlah baris: {len(df)}\\n')\n",
    "\n",
    "======================== Rangkuman E-Commerce Public Dataset yang Digunakan ======================== \n",
    "\n",
    "Columns orders_df:  Index(['order_id', 'customer_id', 'order_status', 'order_purchase_timestamp',\n",
    "       'order_approved_at', 'order_delivered_carrier_date',\n",
    "       'order_delivered_customer_date', 'order_estimated_delivery_date'],\n",
    "      dtype='object') \n",
    " Jumlah variabel: 8\n",
    " Jumlah baris: 99441\n",
    "\n",
    "Columns costumers_df:  Index(['customer_id', 'customer_unique_id', 'customer_zip_code_prefix',\n",
    "       'customer_city', 'customer_state'],\n",
    "      dtype='object') \n",
    " Jumlah variabel: 5\n",
    " Jumlah baris: 99441\n",
    "\n",
    "Columns order_reviews_df:  Index(['review_id', 'order_id', 'review_score', 'review_comment_title',\n",
    "       'review_comment_message', 'review_creation_date',\n",
    "       'review_answer_timestamp'],\n",
    "      dtype='object') \n",
    " Jumlah variabel: 7\n",
    " Jumlah baris: 99224\n",
    "\n",
    "Columns order_items_df:  Index(['order_id', 'order_item_id', 'product_id', 'seller_id',\n",
    "       'shipping_limit_date', 'price', 'freight_value'],\n",
    "      dtype='object') \n",
    " Jumlah variabel: 7\n",
    " Jumlah baris: 112650\n",
    "\n",
    "Columns order_payments_df:  Index(['order_id', 'payment_sequential', 'payment_type',\n",
    "       'payment_installments', 'payment_value'],\n",
    "      dtype='object') \n",
    " Jumlah variabel: 5\n",
    " Jumlah baris: 103886\n",
    "\n",
    "Columns products_df:  Index(['product_id', 'product_category_name', 'product_name_lenght',\n",
    "       'product_description_lenght', 'product_photos_qty', 'product_weight_g',\n",
    "       'product_length_cm', 'product_height_cm', 'product_width_cm'],\n",
    "      dtype='object') \n",
    " Jumlah variabel: 9\n",
    " Jumlah baris: 32951\n",
    "\n",
    "Columns products_category_eng_df:  Index(['product_category_name', 'product_category_name_english'], dtype='object') \n",
    " Jumlah variabel: 2\n",
    " Jumlah baris: 71\n",
    "\n",
    "Columns sellers_df:  Index(['seller_id', 'seller_zip_code_prefix', 'seller_city', 'seller_state'], dtype='object') \n",
    " Jumlah variabel: 4\n",
    " Jumlah baris: 3095\n",
    "\n",
    "Columns geolocation_df:  Index(['geolocation_zip_code_prefix', 'geolocation_lat', 'geolocation_lng',\n",
    "       'geolocation_city', 'geolocation_state'],\n",
    "      dtype='object') \n",
    " Jumlah variabel: 5\n",
    " Jumlah baris: 1000163\n"
   ]
  },
  {
   "cell_type": "code",
   "execution_count": null,
   "id": "58b46fe1-9476-47ca-b0fb-65ea5e7e6913",
   "metadata": {},
   "outputs": [],
   "source": [
    "Pertanyaan :\n",
    "- Bagaimana performa penjualan dan revenue perusahaan selama ini?\n",
    "- Kategori produk apa yang paling banyak dan paling sedikit terjual?\n",
    "- Metode pembayaran apa yang paling sering digunakan pelanggan?\n",
    "- Bagaimana tingkat kepuasan pelanggan selama berbelanja di-Ecommerce ini?\n",
    "- Bagaimana persebaran pelanggan dan penjual yang dimiliki?\n",
    "- Bagaimana pola perilaku konsumen pada setiap segment? Strategi apa yang harus dilakukan untuk menjaga customer agar tetap setia berbelanja di-Ecommerce ini?"
   ]
  },
  {
   "cell_type": "code",
   "execution_count": null,
   "id": "3e297331-5ba5-4d8a-b430-e85d9e31aac2",
   "metadata": {},
   "outputs": [],
   "source": [
    "Untuk pertanyaan 1 :\n",
    "1. Gabung dataorders_df dan costumers_df berdasarkan customer_id¶\n",
    "Tujuan: Mendapatkan informasi pelanggan dan lokasi mereka.\n",
    "\n",
    "merged_df = pd.merge(\n",
    "    left=orders_df[['order_id', 'customer_id', 'order_approved_at', \n",
    "                    'order_delivered_carrier_date', 'order_delivered_customer_date',\n",
    "                    'order_estimated_delivery_date']],\n",
    "    right=costumers_df[['customer_id', 'customer_zip_code_prefix',\n",
    "                        'customer_city', 'customer_state']],\n",
    "    how='inner',\n",
    "    left_on='customer_id',\n",
    "    right_on='customer_id'\n",
    ")"
   ]
  },
  {
   "cell_type": "code",
   "execution_count": null,
   "id": "3f3616ae-4ba3-456b-8d1a-9682490ada8c",
   "metadata": {},
   "outputs": [],
   "source": [
    "2. Gabung data di atas dengan order_reviews_df berdasarkan order_id\n",
    "Tujuan: Mendapatkan data pesanan beserta skor ulasan pelanggan.\n",
    "\n",
    "merged_df_2 = pd.merge(\n",
    "    left=merged_df,\n",
    "    right=order_reviews_df[['order_id', 'review_score']],\n",
    "    how=\"inner\",\n",
    "    left_on=\"order_id\",\n",
    "    right_on=\"order_id\"\n",
    ")"
   ]
  },
  {
   "cell_type": "code",
   "execution_count": null,
   "id": "68d850df-fe46-4b56-9b73-9f86ee11abcb",
   "metadata": {},
   "outputs": [],
   "source": [
    "3. Gabung data di atas dengan order_items_df berdasarkan order_id\n",
    "Tujuan: Mendapatkan data product apa saja yang dipesan pelanggan besrta harga product dan ongkos kirimnya\n",
    "\n",
    "merged_df_3 = pd.merge(\n",
    "    left=merged_df_2,\n",
    "    right=order_items_df[['order_id', 'product_id', 'seller_id', 'price', 'freight_value']],\n",
    "    how=\"inner\",\n",
    "    left_on=\"order_id\",\n",
    "    right_on=\"order_id\"\n",
    ")"
   ]
  },
  {
   "cell_type": "code",
   "execution_count": null,
   "id": "e9668c0d-91d7-4f32-93c6-9d361cf32b91",
   "metadata": {},
   "outputs": [],
   "source": [
    "4. Gabung data di atas dengan order_payments_df berdasarkan order_id¶\n",
    "Tujuan: Mendapatkan data cara pelanggan membayar pesanan dan berapa total harga yang dibayar.\n",
    "\n",
    "merged_df_4 = pd.merge(\n",
    "    left=merged_df_3,\n",
    "    right=order_payments_df[['order_id', 'payment_value', 'payment_type']],\n",
    "    how=\"inner\",\n",
    "    left_on=\"order_id\",\n",
    "    right_on=\"order_id\"\n",
    ")"
   ]
  },
  {
   "cell_type": "code",
   "execution_count": null,
   "id": "e130b5be-4b64-4929-8330-8ec76380d1f1",
   "metadata": {},
   "outputs": [],
   "source": [
    "5. Gabung data di atas dengan products_df berdasarkan product_i\n",
    "Tujuan: Mendapatkan data daftar product yang dibeli pelanggan.\n",
    "\n",
    "merged_df_5 = pd.merge(\n",
    "    left=merged_df_4,\n",
    "    right=products_df[['product_id', 'product_category_name']],\n",
    "    how=\"inner\",\n",
    "    left_on=\"product_id\",\n",
    "    right_on=\"product_id\"\n",
    ")"
   ]
  },
  {
   "cell_type": "code",
   "execution_count": null,
   "id": "ac4cc33b-3492-452b-8b28-04ff4ca1fcab",
   "metadata": {},
   "outputs": [],
   "source": [
    "6. Gabung data di atas dengan products_category_eng_df berdasarkan product_category_name\n",
    "Tujuan: Mendapatkan data terjemahan bahasa inggris dari daftar nama kategori produk.\n",
    "merged_df_6 = pd.merge(\n",
    "    left=merged_df_5,\n",
    "    right=products_category_eng_df[['product_category_name', 'product_category_name_english']],\n",
    "    how=\"inner\",\n",
    "    left_on=\"product_category_name\",\n",
    "    right_on=\"product_category_name\"\n",
    ")"
   ]
  },
  {
   "cell_type": "code",
   "execution_count": null,
   "id": "9d06980f-34c7-4ad2-9c3e-174091e1142d",
   "metadata": {},
   "outputs": [],
   "source": [
    "7. Gabung data di atas dengan sellers_df berdasarkan seller_id\n",
    "Tujuan: Mendapatkan data darimana pesanan dikirim yang dapat dilihat dari lokasi penjual.\n",
    "\n",
    "merged_df_7 = pd.merge(\n",
    "    left=merged_df_6,\n",
    "    right=sellers_df[['seller_id', 'seller_zip_code_prefix', 'seller_city', 'seller_state']],\n",
    "    how=\"inner\",\n",
    "    left_on=\"seller_id\",\n",
    "    right_on=\"seller_id\"\n",
    ")"
   ]
  },
  {
   "cell_type": "code",
   "execution_count": null,
   "id": "dc71c0c0-66a9-4b01-80ef-1bd11c5ec099",
   "metadata": {},
   "outputs": [],
   "source": [
    "8. Gabung data di atas dengan geolocation_df berdasarkan costumer & seller geolocation_zip_code_prefix\n",
    "Tujuan: Melihat persebaran costumer dan seller.\n",
    "\n",
    "geolocation_df.duplicated().sum()"
   ]
  },
  {
   "cell_type": "code",
   "execution_count": null,
   "id": "14621adf-debb-437f-860e-e50bdf52982e",
   "metadata": {},
   "outputs": [],
   "source": [
    "# Drop duplicates in geolocation_df based on geolocation_zip_code_prefix\n",
    "geolocation_df.drop_duplicates(subset='geolocation_zip_code_prefix', inplace=True)"
   ]
  },
  {
   "cell_type": "code",
   "execution_count": null,
   "id": "73b55aa7-cadf-4f6d-a1b3-f7485d1c7785",
   "metadata": {},
   "outputs": [],
   "source": [
    "merged_df_8 = pd.merge(\n",
    "    left=merged_df_7,\n",
    "    right=geolocation_df[['geolocation_zip_code_prefix', 'geolocation_lat', 'geolocation_lng']],\n",
    "    how=\"inner\",\n",
    "    left_on=\"customer_zip_code_prefix\", \n",
    "    right_on=\"geolocation_zip_code_prefix\",\n",
    "    suffixes=('_customer', '_seller')  # Handle suffix for the second merge\n",
    ")"
   ]
  },
  {
   "cell_type": "code",
   "execution_count": null,
   "id": "ecc987c0-7340-44af-8629-7cc122d2a961",
   "metadata": {},
   "outputs": [],
   "source": [
    "merged_df_8 = pd.merge(\n",
    "    left=merged_df_8,\n",
    "    right=geolocation_df[['geolocation_zip_code_prefix', 'geolocation_lat', 'geolocation_lng']],\n",
    "    how=\"inner\",\n",
    "    left_on=\"seller_zip_code_prefix\", \n",
    "    right_on=\"geolocation_zip_code_prefix\",\n",
    "    suffixes=('_customer', '_seller')  # Automatically add suffixes for seller geolocation\n",
    ")"
   ]
  },
  {
   "cell_type": "code",
   "execution_count": null,
   "id": "2d099d2c-ef18-418b-b243-61a8dbf45321",
   "metadata": {},
   "outputs": [],
   "source": [
    "print('Columns merged_df_8: ', merged_df_8.columns, '\\n '\n",
    "     'Jumlah variabel: ', len(merged_df_8.columns), '\\n '\n",
    "     'Jumlah baris: ', len(merged_df_8), '\\n')\n",
    "\n",
    "Columns merged_df_8:  Index(['order_id', 'customer_id', 'order_approved_at',\n",
    "       'order_delivered_carrier_date', 'order_delivered_customer_date',\n",
    "       'order_estimated_delivery_date', 'customer_zip_code_prefix',\n",
    "       'customer_city', 'customer_state', 'review_score', 'product_id',\n",
    "       'seller_id', 'price', 'freight_value', 'payment_value', 'payment_type',\n",
    "       'product_category_name', 'product_category_name_english',\n",
    "       'seller_zip_code_prefix', 'seller_city', 'seller_state',\n",
    "       'geolocation_zip_code_prefix_customer', 'geolocation_lat_customer',\n",
    "       'geolocation_lng_customer', 'geolocation_zip_code_prefix_seller',\n",
    "       'geolocation_lat_seller', 'geolocation_lng_seller'],\n",
    "      dtype='object') \n",
    " Jumlah variabel:  27 \n",
    " Jumlah baris:  115037 "
   ]
  },
  {
   "cell_type": "code",
   "execution_count": null,
   "id": "b6244d92-cf75-4218-8ffe-ee2aba430c8e",
   "metadata": {},
   "outputs": [],
   "source": [
    "# Merapikan data\n",
    "merged_df_rearrange = merged_df_8.loc[:,['order_id', \n",
    "                                        'customer_id', \n",
    "                                        'order_approved_at', \n",
    "                                        'order_delivered_carrier_date', \n",
    "                                        'order_delivered_customer_date', \n",
    "                                        'order_estimated_delivery_date',\n",
    "    \n",
    "                                        'customer_zip_code_prefix', \n",
    "                                        'customer_city', \n",
    "                                        'customer_state', \n",
    "                                        'geolocation_zip_code_prefix_customer', \n",
    "                                        'geolocation_lat_customer', \n",
    "                                        'geolocation_lng_customer',\n",
    "\n",
    "                                        'seller_id', \n",
    "                                        'seller_zip_code_prefix', \n",
    "                                        'seller_city', \n",
    "                                        'seller_state', \n",
    "                                        'geolocation_zip_code_prefix_seller', \n",
    "                                        'geolocation_lat_seller', \n",
    "                                        'geolocation_lng_seller',\n",
    "\n",
    "                                        'product_id', \n",
    "                                        'product_category_name', \n",
    "                                        'product_category_name_english',\n",
    "\n",
    "                                        'price', \n",
    "                                        'freight_value', \n",
    "                                        'payment_value', \n",
    "                                        'payment_type',\n",
    "                                        \n",
    "                                        'review_score']]"
   ]
  },
  {
   "cell_type": "code",
   "execution_count": null,
   "id": "a309d656-51ed-49ec-a797-2c72949250ed",
   "metadata": {},
   "outputs": [],
   "source": [
    "merged_df_rearrange\n",
    "\n",
    "\n",
    "Drop Kolom yang sama\n",
    "product_category_name (Sudah ditranslate dalam product_category_name_english)\n",
    "geolocation_zip_code_prefix_customer (Sudah ada dalam customer_zip_code_prefix)\n",
    "geolocation_zip_code_prefix_seller (Sudah ada dalam seller_zip_code_prefix)"
   ]
  },
  {
   "cell_type": "code",
   "execution_count": null,
   "id": "084225c8-c412-46a8-9b32-1b451b4b34bc",
   "metadata": {},
   "outputs": [],
   "source": [
    "df = merged_df_rearrange.drop(['product_category_name', 'geolocation_zip_code_prefix_customer',\n",
    "                               'geolocation_zip_code_prefix_seller'], axis=1, inplace=False)"
   ]
  },
  {
   "cell_type": "code",
   "execution_count": null,
   "id": "50ddff1d-8f85-4dd4-957c-50b0d3b6a0d5",
   "metadata": {},
   "outputs": [],
   "source": [
    "Insight:\n",
    "\n",
    "Dalam E-Commerce Public Dataset terdapat 9 Files dalam format .csv\n",
    "orders_dataset.csv = 99.441 rows × 8 columns\n",
    "customers_dataset.csv = 99.441 rows × 5 columns\n",
    "order_reviews_dataset.csv = 99.224 rows × 7 columns\n",
    "order_items_dataset.csv = 112.650 rows x 7 columns\n",
    "order_payments_dataset.csv = 103.886 rows x 5 columns\n",
    "products_dataset.csv = 32.951 rows x 9 columns\n",
    "product_category_name_translation.csv = 71 rows x 2 columns\n",
    "sellers_dataset.csv = 3.095 rows x 4 colums\n",
    "geolocation_dataset.csv = 1.000.163 rows × 5 columns\n",
    " \n",
    "Untuk menjawab pertanyaan semua pertanyaan bisnis diatas. Kita memerlukan seluruh csv. Seluruh 9 data diatas dimerged dengan menggunakan tipe join 'inner' agar hanya mengambil data yang berkesesuaian saja. Pilih kolom yang diperlukan saja.\n",
    " \n",
    "\n",
    "Dengan penggabungan ini dataset menjadi terdapat 24 variabel, yaitu:\n",
    "\n",
    "order_id: ID pesanan v\n",
    "customer_id: ID pelanggan v\n",
    "order_approved_at: Waktu pembelian disetujui/ diproses\n",
    "order_delivered_carrier_date:Tanggal pesanan dikirim\n",
    "order_delivered_customer_date: Tanggal pesanan sampai ke pelanggan\n",
    "order_estimated_delivery_date: Estimasi waktu pengiriman\n",
    "customer_zip_code_prefix : Kode pos pelanggan\n",
    "customer_city: Kota pelanggan\n",
    "customer_state: Provinsi pelanggan\n",
    "geolocation_lat_customer : Latitude lokasi costumer\n",
    "geolocation_lng_customer: Longitude lokasi costumer\n",
    "seller_id : ID Penjual\n",
    "seller_zip_code_prefix: Kode pos seller\n",
    "seller_city: Kota penjual\n",
    "seller_state: Provinsi penjual\n",
    "geolocation_lat_seller : Latitude lokasi penjual\n",
    "geolocation_lng_seller: Longitude lokasi penjual\n",
    "product_id: ID Produk\n",
    "product_category_name_english: Kategori produk dalam bahasa inggris\n",
    "price: Biaya\n",
    "freight_value: Biaya ongkos kirim\n",
    "payment_value: Total Biaya *termasuk ongkos kirim, diskon, voucher dll\n",
    "payment_type : Tipe pembayaran (credit, boleto/tunai, voucher, dll)\n",
    "review_score: Skor ulasan (1-5)\n",
    "Jadi, shape df = 115.037 rows × 24 columns"
   ]
  }
 ],
 "metadata": {
  "kernelspec": {
   "display_name": "Python 3 (ipykernel)",
   "language": "python",
   "name": "python3"
  },
  "language_info": {
   "codemirror_mode": {
    "name": "ipython",
    "version": 3
   },
   "file_extension": ".py",
   "mimetype": "text/x-python",
   "name": "python",
   "nbconvert_exporter": "python",
   "pygments_lexer": "ipython3",
   "version": "3.12.5"
  }
 },
 "nbformat": 4,
 "nbformat_minor": 5
}
